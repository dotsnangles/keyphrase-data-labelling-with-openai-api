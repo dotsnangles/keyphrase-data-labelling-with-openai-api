{
 "cells": [
  {
   "cell_type": "code",
   "execution_count": 39,
   "metadata": {},
   "outputs": [],
   "source": [
    "import os\n",
    "from dotenv import load_dotenv\n",
    "\n",
    "import pymysql\n",
    "from sshtunnel import SSHTunnelForwarder\n",
    "\n",
    "import pandas as pd"
   ]
  },
  {
   "cell_type": "code",
   "execution_count": 40,
   "metadata": {},
   "outputs": [],
   "source": [
    "load_dotenv()\n",
    "\n",
    "ssh_username = os.getenv('SSH_USERNAME')\n",
    "ssh_pkey = os.getenv('SSH_PKEY')\n",
    "user_name = os.getenv('USER_NAME')\n",
    "passwd = os.getenv('PASSWD')\n",
    "db_name = os.getenv('DB_NAME')"
   ]
  },
  {
   "cell_type": "code",
   "execution_count": 41,
   "metadata": {},
   "outputs": [],
   "source": [
    "query = \"\"\"\n",
    "SELECT id, title, content, create_date\n",
    "FROM portal_news_scraper.portal_news \n",
    "ORDER BY create_date DESC\n",
    "LIMIT 50000;\n",
    "\"\"\""
   ]
  },
  {
   "cell_type": "code",
   "execution_count": 42,
   "metadata": {},
   "outputs": [
    {
     "name": "stdout",
     "output_type": "stream",
     "text": [
      "connect success\n"
     ]
    }
   ],
   "source": [
    "with SSHTunnelForwarder(\n",
    "    (\"220.118.147.58\", 8122), \n",
    "    ssh_username=ssh_username, \n",
    "    ssh_pkey=ssh_pkey,\n",
    "    remote_bind_address=(\"172.30.1.100\", 3306), \n",
    ") as tunnel:\n",
    "    print('connect success')\n",
    "    db = pymysql.connect(\n",
    "        host='127.0.0.1', \n",
    "        port=tunnel.local_bind_port, \n",
    "        user=user_name, \n",
    "        passwd=passwd, \n",
    "        db=db_name\n",
    "    )\n",
    "    cursor = db.cursor(pymysql.cursors.DictCursor)\n",
    "    \n",
    "    cursor.execute(query)\n",
    "    data = pd.DataFrame(cursor.fetchall())\n",
    "    \n",
    "    cursor.close()\n",
    "    db.close()"
   ]
  },
  {
   "cell_type": "code",
   "execution_count": 44,
   "metadata": {},
   "outputs": [],
   "source": [
    "data.to_pickle('./data/20230412_50000.pickle')"
   ]
  }
 ],
 "metadata": {
  "kernelspec": {
   "display_name": ".venv",
   "language": "python",
   "name": "python3"
  },
  "language_info": {
   "codemirror_mode": {
    "name": "ipython",
    "version": 3
   },
   "file_extension": ".py",
   "mimetype": "text/x-python",
   "name": "python",
   "nbconvert_exporter": "python",
   "pygments_lexer": "ipython3",
   "version": "3.9.16"
  },
  "orig_nbformat": 4
 },
 "nbformat": 4,
 "nbformat_minor": 2
}

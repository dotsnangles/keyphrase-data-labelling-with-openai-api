{
 "cells": [
  {
   "cell_type": "code",
   "execution_count": 33,
   "metadata": {},
   "outputs": [],
   "source": [
    "import os, random\n",
    "from dotenv import load_dotenv\n",
    "\n",
    "import openai\n",
    "import pandas as pd"
   ]
  },
  {
   "cell_type": "code",
   "execution_count": 34,
   "metadata": {},
   "outputs": [],
   "source": [
    "load_dotenv()\n",
    "\n",
    "API_KEY = os.getenv('API_KEY')\n",
    "openai.api_key = API_KEY"
   ]
  },
  {
   "cell_type": "code",
   "execution_count": 35,
   "metadata": {},
   "outputs": [],
   "source": [
    "DATA_PATH = './data/100886_from_300000_seq_len_from_500_to_1000'\n",
    "\n",
    "file_names = os.listdir(DATA_PATH)\n",
    "file_names = [file_name for file_name in file_names if 'labeled' not in file_name]\n",
    "file_names = sorted(file_names, key=lambda x: int(x.split('.')[0].split('_')[-1]))\n",
    "file_names = [os.path.join(DATA_PATH, file_name) for file_name in file_names]"
   ]
  },
  {
   "cell_type": "code",
   "execution_count": 36,
   "metadata": {},
   "outputs": [],
   "source": [
    "# df = pd.read_pickle(file_names[0]).reset_index(drop=True)\n",
    "# df['label'] = 'to be labeled'"
   ]
  },
  {
   "cell_type": "code",
   "execution_count": 37,
   "metadata": {},
   "outputs": [],
   "source": [
    "role = 'you are a data labeller who finds key-phrases in a news article.'\n",
    "prompt_starter = \"find top 10 most important key-phrases in the article and separate the key-phrases with semi-colons; numbering is not needed; don't start nor end it with any punctuation:\\n\\n\""
   ]
  },
  {
   "cell_type": "code",
   "execution_count": 38,
   "metadata": {},
   "outputs": [],
   "source": [
    "def generate_label(role, prompt):\n",
    "    response = openai.ChatCompletion.create(\n",
    "        model=\"gpt-3.5-turbo\",\n",
    "        messages=[\n",
    "            {\"role\": \"system\", \"content\": role},\n",
    "            {\"role\": \"user\", \"content\": prompt},\n",
    "    ]\n",
    "    )\n",
    "  \n",
    "    response_content = response['choices'][0]['message']['content']\n",
    "    return response_content"
   ]
  },
  {
   "cell_type": "code",
   "execution_count": 39,
   "metadata": {},
   "outputs": [],
   "source": [
    "### Define Range\n",
    "\n",
    "start = 0\n",
    "end = 1"
   ]
  },
  {
   "cell_type": "code",
   "execution_count": 42,
   "metadata": {},
   "outputs": [],
   "source": [
    "for file_name in file_names[start:end]:\n",
    "    df = pd.read_pickle(file_name).reset_index(drop=True)\n",
    "    df['label'] = 'to be labeled'\n",
    "\n",
    "    for idx, row in df.iterrows():\n",
    "        # if idx == 1:\n",
    "        #     break\n",
    "        prompt = prompt_starter + row.title_content\n",
    "        label = generate_label(role, prompt)\n",
    "        df.loc[idx, 'label'] = label\n",
    "\n",
    "    save_name = file_name.split('.pickle')[0] + '_labeled.pickle'\n",
    "    df.to_pickle(save_name)"
   ]
  },
  {
   "attachments": {},
   "cell_type": "markdown",
   "metadata": {},
   "source": [
    "### Test Generation"
   ]
  },
  {
   "cell_type": "code",
   "execution_count": null,
   "metadata": {},
   "outputs": [],
   "source": [
    "# idx = random.randint(0, len(df))\n",
    "# sample = df.iloc[idx]\n",
    "# article = sample.title_content\n",
    "# sample, article"
   ]
  },
  {
   "cell_type": "code",
   "execution_count": null,
   "metadata": {},
   "outputs": [],
   "source": [
    "# role = 'you are a data labeller who finds key-phrases in a news article.'\n",
    "# prompt_starter = \"find top 10 most important key-phrases in the article and separate the key-phrases with semi-colons; numbering is not needed; don't start nor end it with any punctuation:\\n\\n\"\n",
    "\n",
    "# prompt = prompt_starter + article\n",
    "# print(prompt)"
   ]
  },
  {
   "cell_type": "code",
   "execution_count": null,
   "metadata": {},
   "outputs": [],
   "source": [
    "# ### prompt engineering v1\n",
    "\n",
    "# response = openai.ChatCompletion.create(\n",
    "#   model=\"gpt-3.5-turbo\",\n",
    "#   messages=[\n",
    "#         {\"role\": \"system\", \"content\": role},\n",
    "#         {\"role\": \"user\", \"content\": prompt},\n",
    "#     ]\n",
    "# )\n",
    "\n",
    "# response['choices'][0]['message']['content']"
   ]
  }
 ],
 "metadata": {
  "kernelspec": {
   "display_name": ".venv",
   "language": "python",
   "name": "python3"
  },
  "language_info": {
   "codemirror_mode": {
    "name": "ipython",
    "version": 3
   },
   "file_extension": ".py",
   "mimetype": "text/x-python",
   "name": "python",
   "nbconvert_exporter": "python",
   "pygments_lexer": "ipython3",
   "version": "3.9.16"
  },
  "orig_nbformat": 4
 },
 "nbformat": 4,
 "nbformat_minor": 2
}

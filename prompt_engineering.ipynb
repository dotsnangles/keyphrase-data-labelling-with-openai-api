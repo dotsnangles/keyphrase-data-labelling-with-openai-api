{
 "cells": [
  {
   "cell_type": "code",
   "execution_count": 13,
   "metadata": {},
   "outputs": [],
   "source": [
    "import os, random\n",
    "from dotenv import load_dotenv\n",
    "\n",
    "import openai\n",
    "import pandas as pd"
   ]
  },
  {
   "cell_type": "code",
   "execution_count": 14,
   "metadata": {},
   "outputs": [
    {
     "data": {
      "text/plain": [
       "True"
      ]
     },
     "execution_count": 14,
     "metadata": {},
     "output_type": "execute_result"
    }
   ],
   "source": [
    "load_dotenv()"
   ]
  },
  {
   "cell_type": "code",
   "execution_count": 15,
   "metadata": {},
   "outputs": [],
   "source": [
    "API_KEY = os.getenv('API_KEY')\n",
    "\n",
    "openai.api_key = API_KEY\n",
    "# openai.Model.list()"
   ]
  },
  {
   "cell_type": "code",
   "execution_count": 16,
   "metadata": {},
   "outputs": [],
   "source": [
    "df = pd.read_pickle('data/17538_500_to_1000_for_PE.pickle').reset_index(drop=True)"
   ]
  },
  {
   "cell_type": "code",
   "execution_count": 109,
   "metadata": {},
   "outputs": [
    {
     "data": {
      "text/plain": [
       "(id                                                        12812796\n",
       " create_date                                    2023-04-10 20:24:14\n",
       " title_content    큰 산 넘은 젠지, 난타전 속 팀 시크릿 꺾고 3연승 질주[SS상암in]\\n젠지 ‘...\n",
       " len_tokenized                                                  852\n",
       " Name: 4435, dtype: object,\n",
       " '큰 산 넘은 젠지, 난타전 속 팀 시크릿 꺾고 3연승 질주[SS상암in]\\n젠지 ‘킹’ 이승원. 출처| 라이엇 게임즈[스포츠서울 | 상암=김지윤기자] 한국 팀의 선전 속 젠지가 3연승을 달성하면서 상위권 안착에 성공했다. 매주 차마다 성장하는 모습을 보여준 젠지는 ‘킹’ 이승원과 ‘갓데드’ 김성신의 맹활약에 힘을 더해 난타전 속 완승을 거뒀다.젠지는 10일 서울 마포구에 위치한 상암 아프리카 콜로세움에서 열린 ‘발로란트 챔피언스 투어(VCT) 퍼시픽리그’ 3주차 필리핀의 팀시크릿(TS)과의 대결에서 세트스코어 2-0로 승리했다. 두 팀은 모두 2승 0패를 기록 중이었다. 한 팀은 무조건 1패를 가져가는 상황, 젠지가 깔끔한 완승으로 선두 질주 중인 ‘DRX의 대항마’로 존재감을 맘껏 뽐냈다.‘헤이븐’에서 열린 1세트부터 두 팀을 치열하게 맞붙었다. 피스톨 라운드를 가져간 젠지는 전반전을 리드하면서 분위기를 잡아나갔다. 뺏길 뻔한 라운드도 클러치를 띄우며 얻은 젠지는 전반전은 7-5로 매듭지었다.공수 전환 후 전투는 난전이 계속됐고 그 속에서 젠지가 웃었다. 수비에 선 젠지는 이승원의 활약을 앞세워 순간순간 클러치 능력으로 승기를 굳혔고 스파이크를 해체하면서 13-8로 1세트를 챙겼다.2세트는 ‘프랙처’에서 펼쳐졌다. 젠지는 또 한 번 ‘실반’ 고영섭과 ‘이코’ 염왕룡이 교체하며 승부수를 띄웠다. 공격 진영에서 젠지는 피스톨 라운드를 포함한 두 라운드를 내줬지만 내리 세 라운드를 챙겼다. 그러나 젠지의 반격이 쉽게 들어맞지 않았다. 젠지는 다시 라운드를 뺏기며 흔들렸고 결국 전반전을 6-6으로 혈전을 펼쳤다.젠지는 후반전에서 피스톨 라운드를 따냈지만 한 라운드씩 주고받았다. 매치포인트가 얼마 남지 않은 상황, 젠지는 김성신의 적재적소에 맞는 스킬샷과 에임으로 상대를 흔들었고 결국 13-11로 승부의 마침표를 찍었다.merry0619@sportsseoul.com기사제공 스포츠서울김지윤 기자현장에서 작성된 기사입니다.김지윤 기자구독구독자775응원수660‘구마유시’ 잡은 막내아들, 다시 쓴 최연소 로열로더[SS스타]소문난 잔치 ‘T1 vs 젠지’..결승전 현장은 9000명 팬들로 ‘후끈’[SS현장속으로]Copyright ⓒ 스포츠서울. All rights reserved. 무단 전재 및 재배포 금지.기사 섹션 분류 가이드')"
      ]
     },
     "execution_count": 109,
     "metadata": {},
     "output_type": "execute_result"
    }
   ],
   "source": [
    "idx = random.randint(0, len(df))\n",
    "sample = df.iloc[idx]\n",
    "article = sample.title_content\n",
    "sample, article"
   ]
  },
  {
   "cell_type": "code",
   "execution_count": 110,
   "metadata": {},
   "outputs": [
    {
     "name": "stdout",
     "output_type": "stream",
     "text": [
      "find top 10 most important key-phrases in the article and separate the key-phrases with semi-colons; numbering is not needed; don't start nor end it with any punctuation:\n",
      "\n",
      "큰 산 넘은 젠지, 난타전 속 팀 시크릿 꺾고 3연승 질주[SS상암in]\n",
      "젠지 ‘킹’ 이승원. 출처| 라이엇 게임즈[스포츠서울 | 상암=김지윤기자] 한국 팀의 선전 속 젠지가 3연승을 달성하면서 상위권 안착에 성공했다. 매주 차마다 성장하는 모습을 보여준 젠지는 ‘킹’ 이승원과 ‘갓데드’ 김성신의 맹활약에 힘을 더해 난타전 속 완승을 거뒀다.젠지는 10일 서울 마포구에 위치한 상암 아프리카 콜로세움에서 열린 ‘발로란트 챔피언스 투어(VCT) 퍼시픽리그’ 3주차 필리핀의 팀시크릿(TS)과의 대결에서 세트스코어 2-0로 승리했다. 두 팀은 모두 2승 0패를 기록 중이었다. 한 팀은 무조건 1패를 가져가는 상황, 젠지가 깔끔한 완승으로 선두 질주 중인 ‘DRX의 대항마’로 존재감을 맘껏 뽐냈다.‘헤이븐’에서 열린 1세트부터 두 팀을 치열하게 맞붙었다. 피스톨 라운드를 가져간 젠지는 전반전을 리드하면서 분위기를 잡아나갔다. 뺏길 뻔한 라운드도 클러치를 띄우며 얻은 젠지는 전반전은 7-5로 매듭지었다.공수 전환 후 전투는 난전이 계속됐고 그 속에서 젠지가 웃었다. 수비에 선 젠지는 이승원의 활약을 앞세워 순간순간 클러치 능력으로 승기를 굳혔고 스파이크를 해체하면서 13-8로 1세트를 챙겼다.2세트는 ‘프랙처’에서 펼쳐졌다. 젠지는 또 한 번 ‘실반’ 고영섭과 ‘이코’ 염왕룡이 교체하며 승부수를 띄웠다. 공격 진영에서 젠지는 피스톨 라운드를 포함한 두 라운드를 내줬지만 내리 세 라운드를 챙겼다. 그러나 젠지의 반격이 쉽게 들어맞지 않았다. 젠지는 다시 라운드를 뺏기며 흔들렸고 결국 전반전을 6-6으로 혈전을 펼쳤다.젠지는 후반전에서 피스톨 라운드를 따냈지만 한 라운드씩 주고받았다. 매치포인트가 얼마 남지 않은 상황, 젠지는 김성신의 적재적소에 맞는 스킬샷과 에임으로 상대를 흔들었고 결국 13-11로 승부의 마침표를 찍었다.merry0619@sportsseoul.com기사제공 스포츠서울김지윤 기자현장에서 작성된 기사입니다.김지윤 기자구독구독자775응원수660‘구마유시’ 잡은 막내아들, 다시 쓴 최연소 로열로더[SS스타]소문난 잔치 ‘T1 vs 젠지’..결승전 현장은 9000명 팬들로 ‘후끈’[SS현장속으로]Copyright ⓒ 스포츠서울. All rights reserved. 무단 전재 및 재배포 금지.기사 섹션 분류 가이드\n"
     ]
    }
   ],
   "source": [
    "role = 'you are a data labeller who finds key-phrases in a news article.'\n",
    "prompt_starter = \"find top 10 most important key-phrases in the article and separate the key-phrases with semi-colons; numbering is not needed; don't start nor end it with any punctuation:\\n\\n\"\n",
    "\n",
    "prompt = prompt_starter + article\n",
    "print(prompt)"
   ]
  },
  {
   "cell_type": "code",
   "execution_count": 111,
   "metadata": {},
   "outputs": [
    {
     "data": {
      "text/plain": [
       "'젠지; 킹; 이승원; 갓데드; 김성신; 난타전; 완승; VCT; 퍼시픽리그; DRX'"
      ]
     },
     "execution_count": 111,
     "metadata": {},
     "output_type": "execute_result"
    }
   ],
   "source": [
    "### prompt engineering v1\n",
    "\n",
    "response = openai.ChatCompletion.create(\n",
    "  model=\"gpt-3.5-turbo\",\n",
    "  messages=[\n",
    "        {\"role\": \"system\", \"content\": role},\n",
    "        {\"role\": \"user\", \"content\": prompt},\n",
    "    ]\n",
    ")\n",
    "\n",
    "response['choices'][0]['message']['content']"
   ]
  },
  {
   "cell_type": "code",
   "execution_count": 108,
   "metadata": {},
   "outputs": [
    {
     "data": {
      "text/plain": [
       "\"무리뉴 감독; 안토니오 카사노; 비판; 축구계; 대신 방송; 이탈리아 국가대표팀 출신 공격수 크리스티안 비에리; '보보 TV'; 이탈리아 세리에A; 기자회견; 터치라인; 토리노와의 경기; AS 로마; 인터밀란; 레알 마드리드; 재킷.\""
      ]
     },
     "execution_count": 108,
     "metadata": {},
     "output_type": "execute_result"
    }
   ],
   "source": [
    "# ### prompt engineering v2\n",
    "\n",
    "# response = openai.ChatCompletion.create(\n",
    "#   model=\"gpt-3.5-turbo\",\n",
    "#   messages=[\n",
    "#         {\"role\": \"user\", \"content\": role + ' ' + prompt},\n",
    "#     ]\n",
    "# )\n",
    "\n",
    "# response['choices'][0]['message']['content']"
   ]
  },
  {
   "cell_type": "code",
   "execution_count": 38,
   "metadata": {},
   "outputs": [],
   "source": [
    "### v1 is better over all.\n",
    "\n",
    "# result_v1 = 'NH농협은행; ESG경영; 지속 성장; 대한민국 리딩금융 ESG 어워드; 농협이 곧 ESG; 녹색금융 상품; 친환경 경영활동; NH친환경기업우대론; NH녹색성장론; 금리 우대'\n",
    "# result_v2 = 'NH농협은행; ESG; 환경·사회책임·지배구조; 비재무적 노력; 대한민국 리딩금융 ESG 어워드; 농협이 곧 ESG; 머니S; 녹색금융 상품; NH친환경기업우대론; NH녹색성장론.'"
   ]
  }
 ],
 "metadata": {
  "kernelspec": {
   "display_name": ".venv",
   "language": "python",
   "name": "python3"
  },
  "language_info": {
   "codemirror_mode": {
    "name": "ipython",
    "version": 3
   },
   "file_extension": ".py",
   "mimetype": "text/x-python",
   "name": "python",
   "nbconvert_exporter": "python",
   "pygments_lexer": "ipython3",
   "version": "3.9.16"
  },
  "orig_nbformat": 4
 },
 "nbformat": 4,
 "nbformat_minor": 2
}

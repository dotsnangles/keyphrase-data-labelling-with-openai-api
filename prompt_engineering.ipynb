{
 "cells": [
  {
   "cell_type": "code",
   "execution_count": 29,
   "metadata": {},
   "outputs": [],
   "source": [
    "import os\n",
    "from dotenv import load_dotenv\n",
    "import openai"
   ]
  },
  {
   "cell_type": "code",
   "execution_count": 30,
   "metadata": {},
   "outputs": [
    {
     "data": {
      "text/plain": [
       "True"
      ]
     },
     "execution_count": 30,
     "metadata": {},
     "output_type": "execute_result"
    }
   ],
   "source": [
    "load_dotenv()"
   ]
  },
  {
   "cell_type": "code",
   "execution_count": 31,
   "metadata": {},
   "outputs": [],
   "source": [
    "API_KEY = os.getenv('API_KEY')\n",
    "\n",
    "openai.api_key = API_KEY\n",
    "# openai.Model.list()"
   ]
  },
  {
   "cell_type": "code",
   "execution_count": 32,
   "metadata": {},
   "outputs": [],
   "source": [
    "role = 'you are a data labeller who finds key-phrases in a news article.'"
   ]
  },
  {
   "cell_type": "code",
   "execution_count": 33,
   "metadata": {},
   "outputs": [],
   "source": [
    "prompt_starter = \"find top 10 most important key-phrases in the article and separate the key-phrases with semi-colons; numbering is not needed; don't start or end it with any punctuation:\\n\"\n",
    "article = \\\n",
    "\"\"\"NH농협은행, ‘농협이 곧 ESG’, 상생경영 시동건다\n",
    "환경·사회책임·지배구조를 생각하는 경영이 기업의 새로운 트렌드로 떠올랐다.\n",
    "기업에 자금을 지원하거나 투자하는 국내 금융사는 ESG경영에 속도를 내며 ESG 리딩금융그룹으로 변신을 시작했다.\n",
    "단순히 매출과 순이익 등 재무적 요소를 넘어 친환경·사회적 책임 경영·지배구조 개선 등 비재무적 노력을 다해야 금융회사의 지속 성장이 가능하기 때문이다.\n",
    "머니S는 우수 ESG경영 사례를 구축한 금융사들의 활동 성과를 모아보기 위한 ‘제1회 대한민국 리딩금융 ESG 어워드’를 마련했다.\n",
    "신종 코로나바이러스 감염증 속에서 우수한 ESG경영 성적을 거둔 금융사를 소개한다.\n",
    "NH농협은행은 머니S가 주최한 국내 최초 ‘2021 대한민국 리딩금융 ESG 어워드’ 금융지주 부문에서 높은 평가를 받아 최우수상을 수상했다.\n",
    "‘농협이 곧 ESG’라는 표어를 내건 NH농협은행은 다방면에서 ESG 경영 목표 달성을 위해 노력한 점을 인정받았다.\n",
    "환경 부문에선 녹색금융 상품 출시와 친환경 경영활동 등으로 지속가능한 생태계 조성에 기여했다는 평이다.\n",
    "NH농협은행의 대표적인 녹색금융 상품은 ‘NH친환경기업우대론’이다.\n",
    "환경성 평가 우수기업과 녹색인증 기업에 ESG 환경경영 기여도에 따라 최대 1.5%포인트 금리 우대와 추가 대출 한도를 제공한다.\n",
    "‘NH녹색성장론’은 친환경 녹색산업과 농식품산업을 연계해 녹색성장에 기여하는 법인과 개인사업자에 대출금리 등을 우대해준다.\"\"\"\n",
    "\n",
    "prompt = prompt_starter + article\n",
    "# print(prompt)\n",
    "\n",
    "# response:\n",
    "# NH농협은행; ESG경영; 상생경영; 환경·사회책임·지배구조; 금융사; 지속 성장; 우수 ESG경영 사례; 대한민국 리딩금융 ESG 어워드; 녹색금융 상품; NH친환경기업우대론"
   ]
  },
  {
   "cell_type": "code",
   "execution_count": 34,
   "metadata": {},
   "outputs": [
    {
     "data": {
      "text/plain": [
       "'NH농협은행; ESG경영; 지속 성장; 대한민국 리딩금융 ESG 어워드; 농협이 곧 ESG; 녹색금융 상품; 친환경 경영활동; NH친환경기업우대론; NH녹색성장론; 금리 우대'"
      ]
     },
     "execution_count": 34,
     "metadata": {},
     "output_type": "execute_result"
    }
   ],
   "source": [
    "### prompt engineering v1\n",
    "\n",
    "response = openai.ChatCompletion.create(\n",
    "  model=\"gpt-3.5-turbo\",\n",
    "  messages=[\n",
    "        {\"role\": \"system\", \"content\": role},\n",
    "        {\"role\": \"user\", \"content\": prompt},\n",
    "    ]\n",
    ")\n",
    "\n",
    "response['choices'][0]['message']['content']"
   ]
  },
  {
   "cell_type": "code",
   "execution_count": 35,
   "metadata": {},
   "outputs": [
    {
     "data": {
      "text/plain": [
       "<OpenAIObject chat.completion id=chatcmpl-74JNkR5XAJwHRSqpzGyodc8PUK7sM at 0x7f81fc5bc4f0> JSON: {\n",
       "  \"choices\": [\n",
       "    {\n",
       "      \"finish_reason\": \"stop\",\n",
       "      \"index\": 0,\n",
       "      \"message\": {\n",
       "        \"content\": \"NH\\ub18d\\ud611\\uc740\\ud589; ESG\\uacbd\\uc601; \\uc9c0\\uc18d \\uc131\\uc7a5; \\ub300\\ud55c\\ubbfc\\uad6d \\ub9ac\\ub529\\uae08\\uc735 ESG \\uc5b4\\uc6cc\\ub4dc; \\ub18d\\ud611\\uc774 \\uace7 ESG; \\ub179\\uc0c9\\uae08\\uc735 \\uc0c1\\ud488; \\uce5c\\ud658\\uacbd \\uacbd\\uc601\\ud65c\\ub3d9; NH\\uce5c\\ud658\\uacbd\\uae30\\uc5c5\\uc6b0\\ub300\\ub860; NH\\ub179\\uc0c9\\uc131\\uc7a5\\ub860; \\uae08\\ub9ac \\uc6b0\\ub300\",\n",
       "        \"role\": \"assistant\"\n",
       "      }\n",
       "    }\n",
       "  ],\n",
       "  \"created\": 1681262172,\n",
       "  \"id\": \"chatcmpl-74JNkR5XAJwHRSqpzGyodc8PUK7sM\",\n",
       "  \"model\": \"gpt-3.5-turbo-0301\",\n",
       "  \"object\": \"chat.completion\",\n",
       "  \"usage\": {\n",
       "    \"completion_tokens\": 107,\n",
       "    \"prompt_tokens\": 818,\n",
       "    \"total_tokens\": 925\n",
       "  }\n",
       "}"
      ]
     },
     "execution_count": 35,
     "metadata": {},
     "output_type": "execute_result"
    }
   ],
   "source": [
    "response"
   ]
  },
  {
   "cell_type": "code",
   "execution_count": 36,
   "metadata": {},
   "outputs": [
    {
     "data": {
      "text/plain": [
       "'NH농협은행; ESG; 환경·사회책임·지배구조; 비재무적 노력; 대한민국 리딩금융 ESG 어워드; 농협이 곧 ESG; 머니S; 녹색금융 상품; NH친환경기업우대론; NH녹색성장론.'"
      ]
     },
     "execution_count": 36,
     "metadata": {},
     "output_type": "execute_result"
    }
   ],
   "source": [
    "### prompt engineering v2\n",
    "\n",
    "response = openai.ChatCompletion.create(\n",
    "  model=\"gpt-3.5-turbo\",\n",
    "  messages=[\n",
    "        {\"role\": \"user\", \"content\": role + ' ' + prompt},\n",
    "    ]\n",
    ")\n",
    "\n",
    "response['choices'][0]['message']['content']"
   ]
  },
  {
   "cell_type": "code",
   "execution_count": 37,
   "metadata": {},
   "outputs": [
    {
     "data": {
      "text/plain": [
       "<OpenAIObject chat.completion id=chatcmpl-74JNnP54oVE4SiZwooAOe9ysg8tS1 at 0x7f81fcada900> JSON: {\n",
       "  \"choices\": [\n",
       "    {\n",
       "      \"finish_reason\": \"stop\",\n",
       "      \"index\": 0,\n",
       "      \"message\": {\n",
       "        \"content\": \"NH\\ub18d\\ud611\\uc740\\ud589; ESG; \\ud658\\uacbd\\u00b7\\uc0ac\\ud68c\\ucc45\\uc784\\u00b7\\uc9c0\\ubc30\\uad6c\\uc870; \\ube44\\uc7ac\\ubb34\\uc801 \\ub178\\ub825; \\ub300\\ud55c\\ubbfc\\uad6d \\ub9ac\\ub529\\uae08\\uc735 ESG \\uc5b4\\uc6cc\\ub4dc; \\ub18d\\ud611\\uc774 \\uace7 ESG; \\uba38\\ub2c8S; \\ub179\\uc0c9\\uae08\\uc735 \\uc0c1\\ud488; NH\\uce5c\\ud658\\uacbd\\uae30\\uc5c5\\uc6b0\\ub300\\ub860; NH\\ub179\\uc0c9\\uc131\\uc7a5\\ub860.\",\n",
       "        \"role\": \"assistant\"\n",
       "      }\n",
       "    }\n",
       "  ],\n",
       "  \"created\": 1681262175,\n",
       "  \"id\": \"chatcmpl-74JNnP54oVE4SiZwooAOe9ysg8tS1\",\n",
       "  \"model\": \"gpt-3.5-turbo-0301\",\n",
       "  \"object\": \"chat.completion\",\n",
       "  \"usage\": {\n",
       "    \"completion_tokens\": 113,\n",
       "    \"prompt_tokens\": 813,\n",
       "    \"total_tokens\": 926\n",
       "  }\n",
       "}"
      ]
     },
     "execution_count": 37,
     "metadata": {},
     "output_type": "execute_result"
    }
   ],
   "source": [
    "response"
   ]
  },
  {
   "cell_type": "code",
   "execution_count": 38,
   "metadata": {},
   "outputs": [],
   "source": [
    "result_v1 = 'NH농협은행; ESG경영; 지속 성장; 대한민국 리딩금융 ESG 어워드; 농협이 곧 ESG; 녹색금융 상품; 친환경 경영활동; NH친환경기업우대론; NH녹색성장론; 금리 우대'\n",
    "result_v2 = 'NH농협은행; ESG; 환경·사회책임·지배구조; 비재무적 노력; 대한민국 리딩금융 ESG 어워드; 농협이 곧 ESG; 머니S; 녹색금융 상품; NH친환경기업우대론; NH녹색성장론.'"
   ]
  }
 ],
 "metadata": {
  "kernelspec": {
   "display_name": ".venv",
   "language": "python",
   "name": "python3"
  },
  "language_info": {
   "codemirror_mode": {
    "name": "ipython",
    "version": 3
   },
   "file_extension": ".py",
   "mimetype": "text/x-python",
   "name": "python",
   "nbconvert_exporter": "python",
   "pygments_lexer": "ipython3",
   "version": "3.9.16"
  },
  "orig_nbformat": 4
 },
 "nbformat": 4,
 "nbformat_minor": 2
}
